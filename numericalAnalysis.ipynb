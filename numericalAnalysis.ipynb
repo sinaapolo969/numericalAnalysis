{
 "cells": [
  {
   "cell_type": "markdown",
   "id": "7570db5a",
   "metadata": {},
   "source": [
    "## approximation of the root of the equation by Newton's method"
   ]
  },
  {
   "cell_type": "code",
   "execution_count": null,
   "id": "bca12ea9",
   "metadata": {},
   "outputs": [],
   "source": [
    "import math\n",
    "def function(x):\n",
    "    return x + math.cos(x)\n",
    "def diff(x):\n",
    "    return 1 - math.sin(x)\n",
    "\n",
    "def newton_method(x0, epsilon, tol, iterations):\n",
    "    \n",
    "    for i in range(iterations):\n",
    "        y = function(x0)\n",
    "        yprime = diff(x0)\n",
    "        if abs(yprime) < epsilon:\n",
    "            return x1\n",
    "        x1 = x0 - y / yprime\n",
    "\n",
    "        if abs(x1 - x0) <= tol:\n",
    "            \n",
    "            return x1\n",
    "        \n",
    "        x0 = x1\n",
    "    return None\n",
    "\n",
    "print(newton_method(1, 0.01, 1.8, 5))\n"
   ]
  },
  {
   "cell_type": "markdown",
   "id": "905f2014",
   "metadata": {},
   "source": [
    "## plotting the bitcoin price time series in normal and logartithmic way"
   ]
  },
  {
   "cell_type": "code",
   "execution_count": 22,
   "id": "eccdccdc",
   "metadata": {},
   "outputs": [],
   "source": [
    "import pandas as pd \n",
    "import numpy as np\n",
    "import matplotlib.pyplot as plt\n",
    "import seaborn as sns"
   ]
  },
  {
   "cell_type": "code",
   "execution_count": 34,
   "id": "59252fd5",
   "metadata": {},
   "outputs": [],
   "source": [
    "data = pd.read_csv('C:/Users/kara/Downloads/Bitcoin Historical Data - Investing.com (1).csv')"
   ]
  },
  {
   "cell_type": "code",
   "execution_count": 35,
   "id": "d2be6eb4",
   "metadata": {
    "scrolled": true
   },
   "outputs": [
    {
     "data": {
      "text/html": [
       "<div>\n",
       "<style scoped>\n",
       "    .dataframe tbody tr th:only-of-type {\n",
       "        vertical-align: middle;\n",
       "    }\n",
       "\n",
       "    .dataframe tbody tr th {\n",
       "        vertical-align: top;\n",
       "    }\n",
       "\n",
       "    .dataframe thead th {\n",
       "        text-align: right;\n",
       "    }\n",
       "</style>\n",
       "<table border=\"1\" class=\"dataframe\">\n",
       "  <thead>\n",
       "    <tr style=\"text-align: right;\">\n",
       "      <th></th>\n",
       "      <th>Date</th>\n",
       "      <th>Price</th>\n",
       "      <th>Open</th>\n",
       "      <th>High</th>\n",
       "      <th>Low</th>\n",
       "      <th>Vol.</th>\n",
       "      <th>Change %</th>\n",
       "    </tr>\n",
       "  </thead>\n",
       "  <tbody>\n",
       "    <tr>\n",
       "      <th>0</th>\n",
       "      <td>Feb 07, 2023</td>\n",
       "      <td>22,911.4</td>\n",
       "      <td>22,761.8</td>\n",
       "      <td>22,981.1</td>\n",
       "      <td>22,748.2</td>\n",
       "      <td>277.43K</td>\n",
       "      <td>0.66%</td>\n",
       "    </tr>\n",
       "    <tr>\n",
       "      <th>1</th>\n",
       "      <td>Feb 06, 2023</td>\n",
       "      <td>22,761.8</td>\n",
       "      <td>22,936.0</td>\n",
       "      <td>23,130.6</td>\n",
       "      <td>22,633.7</td>\n",
       "      <td>278.58K</td>\n",
       "      <td>-0.76%</td>\n",
       "    </tr>\n",
       "    <tr>\n",
       "      <th>2</th>\n",
       "      <td>Feb 05, 2023</td>\n",
       "      <td>22,936.0</td>\n",
       "      <td>23,326.9</td>\n",
       "      <td>23,423.4</td>\n",
       "      <td>22,766.5</td>\n",
       "      <td>217.26K</td>\n",
       "      <td>-1.66%</td>\n",
       "    </tr>\n",
       "    <tr>\n",
       "      <th>3</th>\n",
       "      <td>Feb 04, 2023</td>\n",
       "      <td>23,323.8</td>\n",
       "      <td>23,431.2</td>\n",
       "      <td>23,571.8</td>\n",
       "      <td>23,269.8</td>\n",
       "      <td>170.27K</td>\n",
       "      <td>-0.46%</td>\n",
       "    </tr>\n",
       "    <tr>\n",
       "      <th>4</th>\n",
       "      <td>Feb 03, 2023</td>\n",
       "      <td>23,431.2</td>\n",
       "      <td>23,429.1</td>\n",
       "      <td>23,694.1</td>\n",
       "      <td>23,233.8</td>\n",
       "      <td>349.36K</td>\n",
       "      <td>0.02%</td>\n",
       "    </tr>\n",
       "    <tr>\n",
       "      <th>...</th>\n",
       "      <td>...</td>\n",
       "      <td>...</td>\n",
       "      <td>...</td>\n",
       "      <td>...</td>\n",
       "      <td>...</td>\n",
       "      <td>...</td>\n",
       "      <td>...</td>\n",
       "    </tr>\n",
       "    <tr>\n",
       "      <th>2584</th>\n",
       "      <td>Jan 11, 2016</td>\n",
       "      <td>447.7</td>\n",
       "      <td>446.2</td>\n",
       "      <td>451.1</td>\n",
       "      <td>441.8</td>\n",
       "      <td>56.59K</td>\n",
       "      <td>0.34%</td>\n",
       "    </tr>\n",
       "    <tr>\n",
       "      <th>2585</th>\n",
       "      <td>Jan 10, 2016</td>\n",
       "      <td>446.2</td>\n",
       "      <td>448.3</td>\n",
       "      <td>448.9</td>\n",
       "      <td>438.6</td>\n",
       "      <td>44.46K</td>\n",
       "      <td>-0.47%</td>\n",
       "    </tr>\n",
       "    <tr>\n",
       "      <th>2586</th>\n",
       "      <td>Jan 09, 2016</td>\n",
       "      <td>448.3</td>\n",
       "      <td>452.9</td>\n",
       "      <td>454.5</td>\n",
       "      <td>444.9</td>\n",
       "      <td>39.81K</td>\n",
       "      <td>-1.01%</td>\n",
       "    </tr>\n",
       "    <tr>\n",
       "      <th>2587</th>\n",
       "      <td>Jan 08, 2016</td>\n",
       "      <td>452.9</td>\n",
       "      <td>457.0</td>\n",
       "      <td>462.9</td>\n",
       "      <td>446.5</td>\n",
       "      <td>91.31K</td>\n",
       "      <td>-0.91%</td>\n",
       "    </tr>\n",
       "    <tr>\n",
       "      <th>2588</th>\n",
       "      <td>Jan 07, 2016</td>\n",
       "      <td>457.0</td>\n",
       "      <td>430.8</td>\n",
       "      <td>457.5</td>\n",
       "      <td>428.5</td>\n",
       "      <td>130.20K</td>\n",
       "      <td>6.09%</td>\n",
       "    </tr>\n",
       "  </tbody>\n",
       "</table>\n",
       "<p>2589 rows × 7 columns</p>\n",
       "</div>"
      ],
      "text/plain": [
       "              Date     Price      Open      High       Low     Vol. Change %\n",
       "0     Feb 07, 2023  22,911.4  22,761.8  22,981.1  22,748.2  277.43K    0.66%\n",
       "1     Feb 06, 2023  22,761.8  22,936.0  23,130.6  22,633.7  278.58K   -0.76%\n",
       "2     Feb 05, 2023  22,936.0  23,326.9  23,423.4  22,766.5  217.26K   -1.66%\n",
       "3     Feb 04, 2023  23,323.8  23,431.2  23,571.8  23,269.8  170.27K   -0.46%\n",
       "4     Feb 03, 2023  23,431.2  23,429.1  23,694.1  23,233.8  349.36K    0.02%\n",
       "...            ...       ...       ...       ...       ...      ...      ...\n",
       "2584  Jan 11, 2016     447.7     446.2     451.1     441.8   56.59K    0.34%\n",
       "2585  Jan 10, 2016     446.2     448.3     448.9     438.6   44.46K   -0.47%\n",
       "2586  Jan 09, 2016     448.3     452.9     454.5     444.9   39.81K   -1.01%\n",
       "2587  Jan 08, 2016     452.9     457.0     462.9     446.5   91.31K   -0.91%\n",
       "2588  Jan 07, 2016     457.0     430.8     457.5     428.5  130.20K    6.09%\n",
       "\n",
       "[2589 rows x 7 columns]"
      ]
     },
     "execution_count": 35,
     "metadata": {},
     "output_type": "execute_result"
    }
   ],
   "source": [
    "data"
   ]
  },
  {
   "cell_type": "code",
   "execution_count": 16,
   "id": "76e72e9d",
   "metadata": {},
   "outputs": [],
   "source": [
    "import pylab"
   ]
  },
  {
   "cell_type": "code",
   "execution_count": 36,
   "id": "e791edee",
   "metadata": {},
   "outputs": [
    {
     "data": {
      "text/plain": [
       "[<matplotlib.lines.Line2D at 0x1f23f9ffbe0>]"
      ]
     },
     "execution_count": 36,
     "metadata": {},
     "output_type": "execute_result"
    },
    {
     "data": {
      "image/png": "[encoded data removed]",
      "text/plain": [
       "<Figure size 432x288 with 1 Axes>"
      ]
     },
     "metadata": {
      "needs_background": "light"
     },
     "output_type": "display_data"
    }
   ],
   "source": [
    "plt.plot(data.Price.values)\n"
   ]
  },
  {
   "cell_type": "code",
   "execution_count": 41,
   "id": "5c4cd555",
   "metadata": {
    "scrolled": true
   },
   "outputs": [
    {
     "data": {
      "image/png": "[encoded data removed]",
      "text/plain": [
       "<Figure size 432x288 with 1 Axes>"
      ]
     },
     "metadata": {
      "needs_background": "light"
     },
     "output_type": "display_data"
    }
   ],
   "source": [
    "fig = plt.figure()\n",
    "ax = fig.add_subplot(2, 1, 1)\n",
    "line = ax.plot(data.Price.values, lw = 2)\n",
    "ax.set_yscale('log', base = 10)\n",
    "pylab.show()"
   ]
  },
  {
   "cell_type": "markdown",
   "id": "68be09cd",
   "metadata": {},
   "source": [
    "### calculate integral of f = e ^ (-x)^2 with Trapezoid method"
   ]
  },
  {
   "cell_type": "code",
   "execution_count": null,
   "id": "db33bdd3",
   "metadata": {},
   "outputs": [],
   "source": [
    "def calculateIntegral(a, b, n):\n",
    "    h = (b - a) / n\n",
    "    res = 0\n",
    "    e = 2.71828\n",
    "    for i in range(1, n):\n",
    "        res += h / 2 * (1 / (pow(e, pow(i / n, 2))) + 1 / (pow(e, pow((i + 1) / n, 2))))\n",
    "    return res\n",
    "print('please enter the N:')\n",
    "n = int(input())\n",
    "b = calculateIntegral(0, 1, n)\n",
    "print(b)"
   ]
  },
  {
   "cell_type": "markdown",
   "id": "961f5dc1",
   "metadata": {},
   "source": [
    "## benchmark of the different h values for calculating the derrivatives of f = sin(3x)"
   ]
  },
  {
   "cell_type": "code",
   "execution_count": 18,
   "id": "517ae738",
   "metadata": {},
   "outputs": [],
   "source": [
    "import numpy as np\n",
    "x = np.arange(0, 10, 0.01)\n",
    "y = []\n",
    "y_prime = []\n",
    "for i in x:\n",
    "    y.append(function(i))\n",
    "    y_prime.append(diff(i))"
   ]
  },
  {
   "cell_type": "code",
   "execution_count": 21,
   "id": "cdbdea1c",
   "metadata": {},
   "outputs": [
    {
     "data": {
      "text/plain": [
       "[<matplotlib.lines.Line2D at 0x230aa869180>]"
      ]
     },
     "execution_count": 21,
     "metadata": {},
     "output_type": "execute_result"
    },
    {
     "data": {
      "image/png": "[encoded data removed]",
      "text/plain": [
       "<Figure size 432x288 with 1 Axes>"
      ]
     },
     "metadata": {
      "needs_background": "light"
     },
     "output_type": "display_data"
    }
   ],
   "source": [
    "plt.plot(x, y)\n",
    "plt.plot(x, y_prime)"
   ]
  },
  {
   "cell_type": "code",
   "execution_count": 27,
   "id": "dce4ca3a",
   "metadata": {},
   "outputs": [
    {
     "name": "stdout",
     "output_type": "stream",
     "text": [
      "[1, 0.5, 0.25, 0.16666666666666666, 0.125, 0.1, 0.08333333333333333, 0.07142857142857142, 0.0625, 0.05555555555555555, 0.05, 0.045454545454545456, 0.041666666666666664, 0.038461538461538464, 0.03571428571428571, 0.03333333333333333, 0.03125, 0.029411764705882353, 0.027777777777777776, 0.02631578947368421, 0.025, 0.023809523809523808, 0.022727272727272728, 0.021739130434782608, 0.020833333333333332, 0.02, 0.019230769230769232, 0.018518518518518517, 0.017857142857142856, 0.017241379310344827, 0.016666666666666666, 0.016129032258064516, 0.015625, 0.015151515151515152, 0.014705882352941176, 0.014285714285714285, 0.013888888888888888, 0.013513513513513514, 0.013157894736842105, 0.01282051282051282, 0.0125, 0.012195121951219513, 0.011904761904761904, 0.011627906976744186, 0.011363636363636364, 0.011111111111111112, 0.010869565217391304, 0.010638297872340425, 0.010416666666666666, 0.01020408163265306, 0.01, 0.00980392156862745, 0.009615384615384616, 0.009433962264150943, 0.009259259259259259, 0.00909090909090909, 0.008928571428571428, 0.008771929824561403, 0.008620689655172414, 0.00847457627118644, 0.008333333333333333, 0.00819672131147541, 0.008064516129032258, 0.007936507936507936, 0.0078125, 0.007692307692307693, 0.007575757575757576, 0.007462686567164179, 0.007352941176470588, 0.007246376811594203, 0.007142857142857143, 0.007042253521126761, 0.006944444444444444, 0.00684931506849315, 0.006756756756756757, 0.006666666666666667, 0.006578947368421052, 0.006493506493506494, 0.00641025641025641, 0.006329113924050633, 0.00625, 0.006172839506172839, 0.006097560975609756, 0.006024096385542169, 0.005952380952380952, 0.0058823529411764705, 0.005813953488372093, 0.005747126436781609, 0.005681818181818182, 0.0056179775280898875, 0.005555555555555556, 0.005494505494505495, 0.005434782608695652, 0.005376344086021506, 0.005319148936170213, 0.005263157894736842, 0.005208333333333333, 0.005154639175257732, 0.00510204081632653, 0.005050505050505051, 0.005]\n"
     ]
    }
   ],
   "source": [
    "import math\n",
    "h = []\n",
    "h.append(1)\n",
    "for i in range(1 ,101):\n",
    "    h.append(1 / (2 * i))\n",
    "print(h)\n",
    "def function(x):\n",
    "    return math.sin(3 * x)\n",
    "\n",
    "def diff(x):\n",
    "    return (3 * (math.cos(3 * x)))\n",
    "\n",
    "def estimate_diff_forward(x, h):\n",
    "    return (function(x + h) - function(x)) / h\n",
    "\n",
    "def estimate_diff_central(x, h):\n",
    "    return (function(x + h) - function(x - h)) / 2 * h\n",
    "\n",
    "def lossF(y_abs, y_est):\n",
    "    return abs(y_abs - y_est)\n",
    "\n",
    "    \n",
    "def calculate_numeric_diff(x):\n",
    "    lossf = []\n",
    "    lossc = []\n",
    "    y_abs = diff(x)\n",
    "    print('abs : ', y_abs)\n",
    "    for i in h:\n",
    "        y_est_f = estimate_diff_forward(x, i)\n",
    "        y_est_c = estimate_diff_central(x, i)\n",
    "        print ('est forward for h as ', i, ': ', y_est_f)\n",
    "        print ('est central for h as ', i, ': ', y_est_c)\n",
    "        lossf.append(lossF(y_abs, y_est_f))\n",
    "        lossc.append(lossF(y_abs, y_est_c))\n",
    "    return lossf, lossc"
   ]
  },
  {
   "cell_type": "code",
   "execution_count": 25,
   "id": "aa857184",
   "metadata": {
    "scrolled": true
   },
   "outputs": [
    {
     "name": "stdout",
     "output_type": "stream",
     "text": [
      "abs :  2.880510859951098\n",
      "est forward for h as  1 :  0.6915339834406824\n",
      "est central for h as  1 :  0.1354992385909447\n",
      "est forward for h as  0.5 :  2.4348309499473295\n",
      "est central for h as  0.5 :  0.478882523609959\n",
      "est forward for h as  0.25 :  2.917838287918174\n",
      "est central for h as  0.25 :  0.1636223209009012\n",
      "est forward for h as  0.16666666666666666 :  2.9672129177204485\n",
      "est central for h as  0.16666666666666666 :  0.07672169280485061\n",
      "est forward for h as  0.125 :  2.968809973512829\n",
      "est central for h as  0.125 :  0.0439604999055881\n",
      "est forward for h as  0.1 :  2.9622939868327647\n",
      "est central for h as  0.1 :  0.02837497215409945\n",
      "est forward for h as  0.08333333333333333 :  2.9548353798164286\n",
      "est central for h as  0.08333333333333333 :  0.019795827539654226\n",
      "est forward for h as  0.07142857142857142 :  2.9479856727441067\n",
      "est central for h as  0.07142857142857142 :  0.014584268834560354\n",
      "est forward for h as  0.0625 :  2.94201815738226\n",
      "est central for h as  0.0625 :  0.01118618168030012\n",
      "est forward for h as  0.05555555555555555 :  2.936885996496516\n",
      "est central for h as  0.05555555555555555 :  0.00884936318235685\n",
      "est forward for h as  0.05 :  2.932471786928165\n",
      "est central for h as  0.05 :  0.0071743027246835515\n",
      "est forward for h as  0.045454545454545456 :  2.928656614450641\n",
      "est central for h as  0.045454545454545456 :  0.005933041225794272\n",
      "est forward for h as  0.041666666666666664 :  2.9253376125787884\n",
      "est central for h as  0.041666666666666664 :  0.004987873937189667\n",
      "est forward for h as  0.038461538461538464 :  2.922430191532385\n",
      "est central for h as  0.038461538461538464 :  0.004251661904290794\n",
      "est forward for h as  0.03571428571428571 :  2.9198659609400526\n",
      "est central for h as  0.03571428571428571 :  0.003667095460331736\n",
      "est forward for h as  0.03333333333333333 :  2.9175898178048993\n",
      "est central for h as  0.03333333333333333 :  0.0031952360093023494\n",
      "est forward for h as  0.03125 :  2.9155572494595585\n",
      "est central for h as  0.03125 :  0.0028088800932664403\n",
      "est forward for h as  0.029411764705882353 :  2.913732103620341\n",
      "est central for h as  0.029411764705882353 :  0.0024885593664025953\n",
      "est forward for h as  0.027777777777777776 :  2.9120848223710976\n",
      "est central for h as  0.027777777777777776 :  0.0022200448246651144\n",
      "est forward for h as  0.02631578947368421 :  2.9105910669099653\n",
      "est central for h as  0.02631578947368421 :  0.0019927420857818626\n",
      "est forward for h as  0.025 :  2.9092306519360664\n",
      "est central for h as  0.025 :  0.0017986319627674085\n",
      "est forward for h as  0.023809523809523808 :  2.9079867192249944\n",
      "est central for h as  0.023809523809523808 :  0.0016315544618645925\n",
      "est forward for h as  0.022727272727272728 :  2.906845094163262\n",
      "est central for h as  0.022727272727272728 :  0.0014867146579955809\n",
      "est forward for h as  0.021739130434782608 :  2.90579378194277\n",
      "est central for h as  0.021739130434782608 :  0.0013603352287886365\n",
      "est forward for h as  0.020833333333333332 :  2.9048225705838897\n",
      "est central for h as  0.020833333333333332 :  0.0012494079399313438\n",
      "est forward for h as  0.02 :  2.9039227160283594\n",
      "est central for h as  0.02 :  0.0011515131458014638\n",
      "est forward for h as  0.019230769230769232 :  2.903086690633589\n",
      "est central for h as  0.019230769230769232 :  0.0010646868377692797\n",
      "est forward for h as  0.018518518518518517 :  2.9023079809511745\n",
      "est central for h as  0.018518518518518517 :  0.0009873214486724974\n",
      "est forward for h as  0.017857142857142856 :  2.901580924064407\n",
      "est central for h as  0.017857142857142856 :  0.0009180909637344215\n",
      "est forward for h as  0.017241379310344827 :  2.900900574293382\n",
      "est central for h as  0.017241379310344827 :  0.000855893762922251\n",
      "est forward for h as  0.016666666666666666 :  2.9002625939720175\n",
      "est central for h as  0.016666666666666666 :  0.0007998085547529033\n",
      "est forward for h as  0.016129032258064516 :  2.8996631634270447\n",
      "est central for h as  0.016129032258064516 :  0.0007490600839847511\n",
      "est forward for h as  0.015625 :  2.8990989063714085\n",
      "est central for h as  0.015625 :  0.0007029922122203408\n",
      "est forward for h as  0.015151515151515152 :  2.898566827743728\n",
      "est central for h as  0.015151515151515152 :  0.0006610466140870217\n",
      "est forward for h as  0.014705882352941176 :  2.8980642616553136\n",
      "est central for h as  0.014705882352941176 :  0.0006227457891668999\n",
      "est forward for h as  0.014285714285714285 :  2.897588827591203\n",
      "est central for h as  0.014285714285714285 :  0.0005876794187529413\n",
      "est forward for h as  0.013888888888888888 :  2.897138393387398\n",
      "est central for h as  0.013888888888888888 :  0.0005554933354836525\n",
      "est forward for h as  0.013513513513513514 :  2.896711043798587\n",
      "est central for h as  0.013513513513513514 :  0.0005258805492782819\n",
      "est forward for h as  0.013157894736842105 :  2.8963050537005013\n",
      "est central for h as  0.013157894736842105 :  0.0004985739028952923\n",
      "est forward for h as  0.01282051282051282 :  2.895918865153654\n",
      "est central for h as  0.01282051282051282 :  0.000473340027507308\n",
      "est forward for h as  0.0125 :  2.8955510676959206\n",
      "est central for h as  0.0125 :  0.0004499743418259485\n",
      "est forward for h as  0.012195121951219513 :  2.8952003813492984\n",
      "est central for h as  0.012195121951219513 :  0.00042829689385393\n",
      "est forward for h as  0.011904761904761904 :  2.894865641915618\n",
      "est central for h as  0.011904761904761904 :  0.0004081488868344556\n",
      "est forward for h as  0.011627906976744186 :  2.8945457882106775\n",
      "est central for h as  0.011627906976744186 :  0.00038938976370649065\n",
      "est forward for h as  0.011363636363636364 :  2.8942398509457634\n",
      "est central for h as  0.011363636363636364 :  0.0003718947497649769\n",
      "est forward for h as  0.011111111111111112 :  2.8939469430157456\n",
      "est central for h as  0.011111111111111112 :  0.0003555527730429829\n",
      "est forward for h as  0.010869565217391304 :  2.893666250988954\n",
      "est central for h as  0.010869565217391304 :  0.00034026469749297473\n",
      "est forward for h as  0.010638297872340425 :  2.8933970276317007\n",
      "est central for h as  0.010638297872340425 :  0.0003259418163333924\n",
      "est forward for h as  0.010416666666666666 :  2.893138585322263\n",
      "est central for h as  0.010416666666666666 :  0.00031250456268392264\n",
      "est forward for h as  0.01020408163265306 :  2.8928902902338898\n",
      "est central for h as  0.01020408163265306 :  0.00029988140240148355\n",
      "est forward for h as  0.01 :  2.892651557185011\n",
      "est central for h as  0.01 :  0.0002880078802765118\n",
      "est forward for h as  0.00980392156862745 :  2.8924218450688057\n",
      "est central for h as  0.00980392156862745 :  0.0002768257957849452\n",
      "est forward for h as  0.009615384615384616 :  2.8922006527866966\n",
      "est central for h as  0.009615384615384616 :  0.0002662824886685668\n",
      "est forward for h as  0.009433962264150943 :  2.8919875156246535\n",
      "est central for h as  0.009433962264150943 :  0.00025633021793256493\n",
      "est forward for h as  0.009259259259259259 :  2.8917820020135947\n",
      "est central for h as  0.009259259259259259 :  0.000246925620556834\n",
      "est forward for h as  0.00909090909090909 :  2.8915837106322924\n",
      "est central for h as  0.00909090909090909 :  0.00023802923843866698\n",
      "est forward for h as  0.008928571428571428 :  2.8913922678048714\n",
      "est central for h as  0.008928571428571428 :  0.00022960510391137952\n",
      "est forward for h as  0.008771929824561403 :  2.8912073251646113\n",
      "est central for h as  0.008771929824561403 :  0.00022162037569460662\n",
      "est forward for h as  0.008620689655172414 :  2.89102855755071\n",
      "est central for h as  0.008620689655172414 :  0.0002140450183834864\n",
      "est forward for h as  0.00847457627118644 :  2.8908556611078007\n",
      "est central for h as  0.00847457627118644 :  0.0002068515196259836\n",
      "est forward for h as  0.008333333333333333 :  2.890688351573516\n",
      "est central for h as  0.008333333333333333 :  0.00020001464000785293\n",
      "est forward for h as  0.00819672131147541 :  2.8905263627242657\n",
      "est central for h as  0.00819672131147541 :  0.0001935111913924775\n",
      "est forward for h as  0.008064516129032258 :  2.8903694449698265\n",
      "est central for h as  0.008064516129032258 :  0.00018731984007558936\n",
      "est forward for h as  0.007936507936507936 :  2.890217364074015\n",
      "est central for h as  0.007936507936507936 :  0.00018142093162978437\n",
      "est forward for h as  0.0078125 :  2.8900698999949554\n",
      "est central for h as  0.0078125 :  0.00017579633475028238\n",
      "est forward for h as  0.007692307692307693 :  2.889926845825499\n",
      "est central for h as  0.007692307692307693 :  0.00017042930178191244\n",
      "est forward for h as  0.007575757575757576 :  2.889788006829374\n",
      "est central for h as  0.007575757575757576 :  0.00016530434392172545\n",
      "est forward for h as  0.007462686567164179 :  2.889653199559463\n",
      "est central for h as  0.007462686567164179 :  0.00016040711935850385\n",
      "est forward for h as  0.007352941176470588 :  2.889522251052735\n",
      "est central for h as  0.007352941176470588 :  0.00015572433283902518\n",
      "est forward for h as  0.007246376811594203 :  2.889394998092543\n",
      "est central for h as  0.007246376811594203 :  0.0001512436453462607\n",
      "est forward for h as  0.007142857142857143 :  2.889271286531151\n",
      "est central for h as  0.007142857142857143 :  0.00014695359274248114\n",
      "est forward for h as  0.007042253521126761 :  2.8891509706705953\n",
      "est central for h as  0.007042253521126761 :  0.00014284351237475715\n",
      "est forward for h as  0.006944444444444444 :  2.8890339126905014\n",
      "est central for h as  0.006944444444444444 :  0.0001389034767643275\n",
      "est forward for h as  0.00684931506849315 :  2.8889199821240683\n",
      "est central for h as  0.00684931506849315 :  0.00013512423360931394\n",
      "est forward for h as  0.006756756756756757 :  2.8888090553746313\n",
      "est central for h as  0.006756756756756757 :  0.0001314971514229492\n",
      "est forward for h as  0.006666666666666667 :  2.8887010152686687\n",
      "est central for h as  0.006666666666666667 :  0.00012801417021041835\n",
      "est forward for h as  0.006578947368421052 :  2.8885957506448703\n",
      "est central for h as  0.006578947368421052 :  0.00012466775665759941\n",
      "est forward for h as  0.006493506493506494 :  2.8884931559736016\n",
      "est central for h as  0.006493506493506494 :  0.00012145086336608592\n",
      "est forward for h as  0.00641025641025641 :  2.8883931310050204\n",
      "est central for h as  0.00641025641025641 :  0.00011835689172227456\n",
      "est forward for h as  0.006329113924050633 :  2.888295580442989\n",
      "est central for h as  0.006329113924050633 :  0.00011537965803494565\n",
      "est forward for h as  0.00625 :  2.8882004136430783\n",
      "est central for h as  0.00625 :  0.00011251336261659442\n",
      "est forward for h as  0.006172839506172839 :  2.888107544332144\n",
      "est central for h as  0.006172839506172839 :  0.00010975256151966169\n",
      "est forward for h as  0.006097560975609756 :  2.888016890348418\n",
      "est central for h as  0.006097560975609756 :  0.00010709214067030944\n",
      "est forward for h as  0.006024096385542169 :  2.887928373400052\n",
      "est central for h as  0.006024096385542169 :  0.00010452729217006376\n",
      "est forward for h as  0.005952380952380952 :  2.8878419188384727\n",
      "est central for h as  0.005952380952380952 :  0.00010205349256012736\n",
      "est forward for h as  0.0058823529411764705 :  2.8877574554510232\n",
      "est central for h as  0.0058823529411764705 :  9.966648286487755e-05\n",
      "est forward for h as  0.005813953488372093 :  2.887674915263935\n",
      "est central for h as  0.005813953488372093 :  9.736225024986789e-05\n",
      "est forward for h as  0.005747126436781609 :  2.8875942333615225\n",
      "est central for h as  0.005747126436781609 :  9.513701114694983e-05\n",
      "est forward for h as  0.005681818181818182 :  2.8875153477157287\n",
      "est central for h as  0.005681818181818182 :  9.298719571375836e-05\n",
      "est forward for h as  0.0056179775280898875 :  2.887438199027036\n",
      "est central for h as  0.0056179775280898875 :  9.090943350844868e-05\n",
      "est forward for h as  0.005555555555555556 :  2.8873627305766836\n",
      "est central for h as  0.005555555555555556 :  8.890054027219128e-05\n",
      "est forward for h as  0.005494505494505495 :  2.8872888880881415\n",
      "est central for h as  0.005494505494505495 :  8.695750572266871e-05\n",
      "est forward for h as  0.005434782608695652 :  2.8872166195963644\n",
      "est central for h as  0.005434782608695652 :  8.50774822710834e-05\n",
      "est forward for h as  0.005376344086021506 :  2.8871458753258614\n",
      "est central for h as  0.005376344086021506 :  8.325777458372882e-05\n",
      "est forward for h as  0.005319148936170213 :  2.8870766075783143\n",
      "est central for h as  0.005319148936170213 :  8.149582991666094e-05\n",
      "est forward for h as  0.005263157894736842 :  2.8870087706232694\n",
      "est central for h as  0.005263157894736842 :  7.978922915861853e-05\n",
      "est forward for h as  0.005208333333333333 :  2.886942320599342\n",
      "est central for h as  0.005208333333333333 :  7.813567852362502e-05\n",
      "est forward for h as  0.005154639175257732 :  2.8868772154185227\n",
      "est central for h as  0.005154639175257732 :  7.653300183987338e-05\n",
      "est forward for h as  0.00510204081632653 :  2.8868134146785147\n",
      "est central for h as  0.00510204081632653 :  7.497913338652967e-05\n",
      "est forward for h as  0.005050505050505051 :  2.8867508795785874\n",
      "est central for h as  0.005050505050505051 :  7.347211123437588e-05\n",
      "est forward for h as  0.005 :  2.886689572840939\n",
      "est central for h as  0.005 :  7.201007105022486e-05\n"
     ]
    }
   ],
   "source": [
    "lossf, lossc = calculate_numeric_diff(2)"
   ]
  },
  {
   "cell_type": "code",
   "execution_count": 28,
   "id": "5ced672b",
   "metadata": {},
   "outputs": [],
   "source": [
    "import matplotlib.pyplot as plt\n",
    "def plot_loss(losses, label):\n",
    "    plt.figure(figsize = (10, 7))\n",
    "    plt.plot(h, losses, label = 'losses', c = 'r')\n",
    "    plt.title(label)\n",
    "    plt.xlabel('h value')\n",
    "    plt.ylabel('loss value')\n",
    "    "
   ]
  },
  {
   "cell_type": "code",
   "execution_count": 29,
   "id": "917224da",
   "metadata": {},
   "outputs": [
    {
     "data": {
      "image/png": "[encoded data removed]",
      "text/plain": [
       "<Figure size 720x504 with 1 Axes>"
      ]
     },
     "metadata": {
      "needs_background": "light"
     },
     "output_type": "display_data"
    },
    {
     "data": {
      "image/png": "[encoded data removed]",
      "text/plain": [
       "<Figure size 720x504 with 1 Axes>"
      ]
     },
     "metadata": {
      "needs_background": "light"
     },
     "output_type": "display_data"
    },
    {
     "name": "stderr",
     "output_type": "stream",
     "text": [
      "Exception in callback BaseSelectorEventLoop._read_from_self()\n",
      "handle: <Handle BaseSelectorEventLoop._read_from_self()>\n",
      "Traceback (most recent call last):\n",
      "  File \"C:\\Users\\kara\\AppData\\Local\\Programs\\Python\\Python310\\lib\\asyncio\\events.py\", line 80, in _run\n",
      "    self._context.run(self._callback, *self._args)\n",
      "  File \"C:\\Users\\kara\\AppData\\Local\\Programs\\Python\\Python310\\lib\\asyncio\\selector_events.py\", line 115, in _read_from_self\n",
      "    data = self._ssock.recv(4096)\n",
      "ConnectionResetError: [WinError 10054] An existing connection was forcibly closed by the remote host\n",
      "Exception in callback BaseSelectorEventLoop._read_from_self()\n",
      "handle: <Handle BaseSelectorEventLoop._read_from_self()>\n",
      "Traceback (most recent call last):\n",
      "  File \"C:\\Users\\kara\\AppData\\Local\\Programs\\Python\\Python310\\lib\\asyncio\\events.py\", line 80, in _run\n",
      "    self._context.run(self._callback, *self._args)\n",
      "  File \"C:\\Users\\kara\\AppData\\Local\\Programs\\Python\\Python310\\lib\\asyncio\\selector_events.py\", line 115, in _read_from_self\n",
      "    data = self._ssock.recv(4096)\n",
      "ConnectionResetError: [WinError 10054] An existing connection was forcibly closed by the remote host\n",
      "Exception in callback BaseSelectorEventLoop._read_from_self()\n",
      "handle: <Handle BaseSelectorEventLoop._read_from_self()>\n",
      "Traceback (most recent call last):\n",
      "  File \"C:\\Users\\kara\\AppData\\Local\\Programs\\Python\\Python310\\lib\\asyncio\\events.py\", line 80, in _run\n",
      "    self._context.run(self._callback, *self._args)\n",
      "  File \"C:\\Users\\kara\\AppData\\Local\\Programs\\Python\\Python310\\lib\\asyncio\\selector_events.py\", line 115, in _read_from_self\n",
      "    data = self._ssock.recv(4096)\n",
      "ConnectionResetError: [WinError 10054] An existing connection was forcibly closed by the remote host\n"
     ]
    }
   ],
   "source": [
    "plot_loss(lossf, 'forward method')\n",
    "plot_loss(lossc, 'central method')"
   ]
  }
 ],
 "metadata": {
  "kernelspec": {
   "display_name": "Python 3.10.7 64-bit",
   "language": "python",
   "name": "python3"
  },
  "language_info": {
   "codemirror_mode": {
    "name": "ipython",
    "version": 3
   },
   "file_extension": ".py",
   "mimetype": "text/x-python",
   "name": "python",
   "nbconvert_exporter": "python",
   "pygments_lexer": "ipython3",
   "version": "3.10.7"
  },
  "vscode": {
   "interpreter": {
    "hash": "163607156c2cf33662bc140ade1550ab7156299ca5696cb124f221a30c485f8b"
   }
  }
 },
 "nbformat": 4,
 "nbformat_minor": 5
}
