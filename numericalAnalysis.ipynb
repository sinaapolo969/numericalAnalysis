{
  "cells": [
    {
      "cell_type": "markdown",
      "id": "7570db5a",
      "metadata": {
        "id": "7570db5a"
      },
      "source": [
        "## approximation of the root of the equation by Newton's method"
      ]
    },
    {
      "cell_type": "code",
      "execution_count": null,
      "id": "bca12ea9",
      "metadata": {
        "colab": {
          "base_uri": "https://localhost:8080/"
        },
        "id": "bca12ea9",
        "outputId": "4855b92c-15bd-46be-e2b7-17d20a65f149"
      },
      "outputs": [
        {
          "name": "stdout",
          "output_type": "stream",
          "text": [
            "-0.7660395196449308\n"
          ]
        }
      ],
      "source": [
        "import math\n",
        "def function(x):\n",
        "    return x + math.cos(x)\n",
        "def diff(x):\n",
        "    return 1 - math.sin(x)\n",
        "\n",
        "def newton_method(x0, epsilon, tol, iterations):\n",
        "    \n",
        "    for i in range(iterations):\n",
        "        y = function(x0)\n",
        "        yprime = diff(x0)\n",
        "        if abs(yprime) < epsilon:\n",
        "            return x1\n",
        "        x1 = x0 - y / yprime\n",
        "\n",
        "        if abs(x1 - x0) <= tol:\n",
        "            \n",
        "            return x1\n",
        "        \n",
        "        x0 = x1\n",
        "    return None\n",
        "\n",
        "print(newton_method(1, 0.01, 1.8, 5))\n"
      ]
    },
    {
      "cell_type": "markdown",
      "id": "905f2014",
      "metadata": {
        "id": "905f2014"
      },
      "source": [
        "## plotting the bitcoin price time series in normal and logartithmic way"
      ]
    },
    {
      "cell_type": "code",
      "execution_count": null,
      "id": "eccdccdc",
      "metadata": {
        "id": "eccdccdc"
      },
      "outputs": [],
      "source": [
        "import pandas as pd \n",
        "import numpy as np\n",
        "import matplotlib.pyplot as plt\n",
        "import seaborn as sns"
      ]
    },
    {
      "cell_type": "code",
      "execution_count": null,
      "id": "59252fd5",
      "metadata": {
        "id": "59252fd5"
      },
      "outputs": [],
      "source": [
        "data = pd.read_csv('C:/Users/kara/Downloads/Bitcoin Historical Data - Investing.com (1).csv')"
      ]
    },
    {
      "cell_type": "code",
      "execution_count": null,
      "id": "d2be6eb4",
      "metadata": {
        "id": "d2be6eb4",
        "outputId": "3b755838-a809-43bf-b612-1ee5c824e61e",
        "scrolled": true
      },
      "outputs": [
        {
          "data": {
            "text/html": [
              "<div>\n",
              "<style scoped>\n",
              "    .dataframe tbody tr th:only-of-type {\n",
              "        vertical-align: middle;\n",
              "    }\n",
              "\n",
              "    .dataframe tbody tr th {\n",
              "        vertical-align: top;\n",
              "    }\n",
              "\n",
              "    .dataframe thead th {\n",
              "        text-align: right;\n",
              "    }\n",
              "</style>\n",
              "<table border=\"1\" class=\"dataframe\">\n",
              "  <thead>\n",
              "    <tr style=\"text-align: right;\">\n",
              "      <th></th>\n",
              "      <th>Date</th>\n",
              "      <th>Price</th>\n",
              "      <th>Open</th>\n",
              "      <th>High</th>\n",
              "      <th>Low</th>\n",
              "      <th>Vol.</th>\n",
              "      <th>Change %</th>\n",
              "    </tr>\n",
              "  </thead>\n",
              "  <tbody>\n",
              "    <tr>\n",
              "      <th>0</th>\n",
              "      <td>Feb 07, 2023</td>\n",
              "      <td>22,911.4</td>\n",
              "      <td>22,761.8</td>\n",
              "      <td>22,981.1</td>\n",
              "      <td>22,748.2</td>\n",
              "      <td>277.43K</td>\n",
              "      <td>0.66%</td>\n",
              "    </tr>\n",
              "    <tr>\n",
              "      <th>1</th>\n",
              "      <td>Feb 06, 2023</td>\n",
              "      <td>22,761.8</td>\n",
              "      <td>22,936.0</td>\n",
              "      <td>23,130.6</td>\n",
              "      <td>22,633.7</td>\n",
              "      <td>278.58K</td>\n",
              "      <td>-0.76%</td>\n",
              "    </tr>\n",
              "    <tr>\n",
              "      <th>2</th>\n",
              "      <td>Feb 05, 2023</td>\n",
              "      <td>22,936.0</td>\n",
              "      <td>23,326.9</td>\n",
              "      <td>23,423.4</td>\n",
              "      <td>22,766.5</td>\n",
              "      <td>217.26K</td>\n",
              "      <td>-1.66%</td>\n",
              "    </tr>\n",
              "    <tr>\n",
              "      <th>3</th>\n",
              "      <td>Feb 04, 2023</td>\n",
              "      <td>23,323.8</td>\n",
              "      <td>23,431.2</td>\n",
              "      <td>23,571.8</td>\n",
              "      <td>23,269.8</td>\n",
              "      <td>170.27K</td>\n",
              "      <td>-0.46%</td>\n",
              "    </tr>\n",
              "    <tr>\n",
              "      <th>4</th>\n",
              "      <td>Feb 03, 2023</td>\n",
              "      <td>23,431.2</td>\n",
              "      <td>23,429.1</td>\n",
              "      <td>23,694.1</td>\n",
              "      <td>23,233.8</td>\n",
              "      <td>349.36K</td>\n",
              "      <td>0.02%</td>\n",
              "    </tr>\n",
              "    <tr>\n",
              "      <th>...</th>\n",
              "      <td>...</td>\n",
              "      <td>...</td>\n",
              "      <td>...</td>\n",
              "      <td>...</td>\n",
              "      <td>...</td>\n",
              "      <td>...</td>\n",
              "      <td>...</td>\n",
              "    </tr>\n",
              "    <tr>\n",
              "      <th>2584</th>\n",
              "      <td>Jan 11, 2016</td>\n",
              "      <td>447.7</td>\n",
              "      <td>446.2</td>\n",
              "      <td>451.1</td>\n",
              "      <td>441.8</td>\n",
              "      <td>56.59K</td>\n",
              "      <td>0.34%</td>\n",
              "    </tr>\n",
              "    <tr>\n",
              "      <th>2585</th>\n",
              "      <td>Jan 10, 2016</td>\n",
              "      <td>446.2</td>\n",
              "      <td>448.3</td>\n",
              "      <td>448.9</td>\n",
              "      <td>438.6</td>\n",
              "      <td>44.46K</td>\n",
              "      <td>-0.47%</td>\n",
              "    </tr>\n",
              "    <tr>\n",
              "      <th>2586</th>\n",
              "      <td>Jan 09, 2016</td>\n",
              "      <td>448.3</td>\n",
              "      <td>452.9</td>\n",
              "      <td>454.5</td>\n",
              "      <td>444.9</td>\n",
              "      <td>39.81K</td>\n",
              "      <td>-1.01%</td>\n",
              "    </tr>\n",
              "    <tr>\n",
              "      <th>2587</th>\n",
              "      <td>Jan 08, 2016</td>\n",
              "      <td>452.9</td>\n",
              "      <td>457.0</td>\n",
              "      <td>462.9</td>\n",
              "      <td>446.5</td>\n",
              "      <td>91.31K</td>\n",
              "      <td>-0.91%</td>\n",
              "    </tr>\n",
              "    <tr>\n",
              "      <th>2588</th>\n",
              "      <td>Jan 07, 2016</td>\n",
              "      <td>457.0</td>\n",
              "      <td>430.8</td>\n",
              "      <td>457.5</td>\n",
              "      <td>428.5</td>\n",
              "      <td>130.20K</td>\n",
              "      <td>6.09%</td>\n",
              "    </tr>\n",
              "  </tbody>\n",
              "</table>\n",
              "<p>2589 rows × 7 columns</p>\n",
              "</div>"
            ],
            "text/plain": [
              "              Date     Price      Open      High       Low     Vol. Change %\n",
              "0     Feb 07, 2023  22,911.4  22,761.8  22,981.1  22,748.2  277.43K    0.66%\n",
              "1     Feb 06, 2023  22,761.8  22,936.0  23,130.6  22,633.7  278.58K   -0.76%\n",
              "2     Feb 05, 2023  22,936.0  23,326.9  23,423.4  22,766.5  217.26K   -1.66%\n",
              "3     Feb 04, 2023  23,323.8  23,431.2  23,571.8  23,269.8  170.27K   -0.46%\n",
              "4     Feb 03, 2023  23,431.2  23,429.1  23,694.1  23,233.8  349.36K    0.02%\n",
              "...            ...       ...       ...       ...       ...      ...      ...\n",
              "2584  Jan 11, 2016     447.7     446.2     451.1     441.8   56.59K    0.34%\n",
              "2585  Jan 10, 2016     446.2     448.3     448.9     438.6   44.46K   -0.47%\n",
              "2586  Jan 09, 2016     448.3     452.9     454.5     444.9   39.81K   -1.01%\n",
              "2587  Jan 08, 2016     452.9     457.0     462.9     446.5   91.31K   -0.91%\n",
              "2588  Jan 07, 2016     457.0     430.8     457.5     428.5  130.20K    6.09%\n",
              "\n",
              "[2589 rows x 7 columns]"
            ]
          },
          "execution_count": 35,
          "metadata": {},
          "output_type": "execute_result"
        }
      ],
      "source": [
        "data"
      ]
    },
    {
      "cell_type": "code",
      "execution_count": null,
      "id": "76e72e9d",
      "metadata": {
        "id": "76e72e9d"
      },
      "outputs": [],
      "source": [
        "import pylab"
      ]
    },
    {
      "cell_type": "code",
      "execution_count": null,
      "id": "e791edee",
      "metadata": {
        "id": "e791edee",
        "outputId": "1d12ccaa-807b-4938-d007-94e5ccd697f2"
      },
      "outputs": [
        {
          "data": {
            "text/plain": [
              "[<matplotlib.lines.Line2D at 0x1f23f9ffbe0>]"
            ]
          },
          "execution_count": 36,
          "metadata": {},
          "output_type": "execute_result"
        },
        {
          "data": {
            "image/png": "[encoded data removed]",
            "text/plain": [
              "<Figure size 432x288 with 1 Axes>"
            ]
          },
          "metadata": {
            "needs_background": "light"
          },
          "output_type": "display_data"
        }
      ],
      "source": [
        "plt.plot(data.Price.values)\n"
      ]
    },
    {
      "cell_type": "code",
      "execution_count": null,
      "id": "5c4cd555",
      "metadata": {
        "id": "5c4cd555",
        "outputId": "c504b09f-e83e-43d3-9bf1-99a6cbfd775b",
        "scrolled": true
      },
      "outputs": [
        {
          "data": {
            "image/png": "[encoded data removed]",
            "text/plain": [
              "<Figure size 432x288 with 1 Axes>"
            ]
          },
          "metadata": {
            "needs_background": "light"
          },
          "output_type": "display_data"
        }
      ],
      "source": [
        "fig = plt.figure()\n",
        "ax = fig.add_subplot(2, 1, 1)\n",
        "line = ax.plot(data.Price.values, lw = 2)\n",
        "ax.set_yscale('log', base = 10)\n",
        "pylab.show()"
      ]
    },
    {
      "cell_type": "markdown",
      "id": "68be09cd",
      "metadata": {
        "id": "68be09cd"
      },
      "source": [
        "### calculate integral of f = e ^ (-x)^2 with Trapezoid method"
      ]
    },
    {
      "cell_type": "code",
      "execution_count": null,
      "id": "db33bdd3",
      "metadata": {
        "colab": {
          "base_uri": "https://localhost:8080/"
        },
        "id": "db33bdd3",
        "outputId": "6e28eb0d-837d-45a6-b5f4-e898383cece9"
      },
      "outputs": [
        {
          "name": "stdout",
          "output_type": "stream",
          "text": [
            "please enter the N:\n",
            "1000\n",
            "0.7458241994482943\n"
          ]
        }
      ],
      "source": [
        "def calculateIntegral(a, b, n):\n",
        "    h = (b - a) / n\n",
        "    res = 0\n",
        "    e = 2.71828\n",
        "    for i in range(1, n):\n",
        "        res += h / 2 * (1 / (pow(e, pow(i / n, 2))) + 1 / (pow(e, pow((i + 1) / n, 2))))\n",
        "    return res\n",
        "print('please enter the N:')\n",
        "n = int(input())\n",
        "b = calculateIntegral(0, 1, n)\n",
        "print(b)"
      ]
    },
    {
      "cell_type": "markdown",
      "id": "acc020f5",
      "metadata": {
        "id": "acc020f5"
      },
      "source": [
        "# 16 feburay homework\n",
        "__Author__ : Sina Tayebi + 400222057\n",
        "\n",
        "__Course__ : Undergraduate Numerical Analysis Course"
      ]
    },
    {
      "cell_type": "markdown",
      "id": "8413dd13",
      "metadata": {
        "id": "8413dd13"
      },
      "source": [
        "## part a) \n",
        "### benchmark of the different h values for calculating the derrivatives of f = sin(3x)"
      ]
    },
    {
      "cell_type": "code",
      "execution_count": null,
      "id": "dce4ca3a",
      "metadata": {
        "id": "dce4ca3a"
      },
      "outputs": [],
      "source": [
        "import math\n",
        "import matplotlib.pyplot as plt\n",
        "import numpy as np\n",
        "h = []\n",
        "h.append(1)\n",
        "for i in range(1 ,1001): # generating the list of numbers in [1, 1/ 2000]\n",
        "    h.append(1 / (2 * i))\n",
        "\n",
        "def function(x):\n",
        "    return math.sin(3 * x)\n",
        "\n",
        "#absoloute value of derrivative\n",
        "def diff(x):\n",
        "    return (3 * (math.cos(3 * x)))\n",
        "\n",
        "def diff2(x):\n",
        "  return (-9 * (math.sin(3 * x)))\n",
        "\n",
        "#numerical value of derrivative\n",
        "def estimate_diff_forward(x, h): \n",
        "    return (function(x + h) - function(x)) / h\n",
        "\n",
        "def estimate_diff_central(x, h):\n",
        "    return (function(x + h / 2) - function(x - h / 2)) / h\n",
        "\n",
        "def lossF(y_abs, y_est):\n",
        "    return abs(y_abs - y_est)\n",
        "\n",
        "    \n",
        "def calculate_numeric_diff(x):\n",
        "    lossf = []\n",
        "    lossc = []\n",
        "    y_abs = diff(x)\n",
        "    print('abs : ', y_abs)\n",
        "    epoch = 0\n",
        "    for i in h:\n",
        "        y_est_f = estimate_diff_forward(x, i)\n",
        "        y_est_c = estimate_diff_central(x, i)\n",
        "        if epoch % 100 == 0:\n",
        "          print ('est forward for h = ', i, ': ', y_est_f)\n",
        "          print ('est central for h = ', i, ': ', y_est_c)\n",
        "        lossf.append(lossF(y_abs, y_est_f))\n",
        "        lossc.append(lossF(y_abs, y_est_c))\n",
        "        epoch += 1\n",
        "    return lossf, lossc"
      ]
    },
    {
      "cell_type": "code",
      "execution_count": null,
      "id": "517ae738",
      "metadata": {
        "id": "517ae738"
      },
      "outputs": [],
      "source": [
        "# plotting the f and f'\n",
        "x = np.arange(0, 10, 0.01)\n",
        "y = []\n",
        "y_prime = []\n",
        "for i in x:\n",
        "    y.append(function(i))\n",
        "    y_prime.append(diff(i))"
      ]
    },
    {
      "cell_type": "code",
      "execution_count": null,
      "id": "cdbdea1c",
      "metadata": {
        "colab": {
          "base_uri": "https://localhost:8080/",
          "height": 283
        },
        "id": "cdbdea1c",
        "outputId": "a9ec8d1f-15ce-4028-c0dc-fee8249a11c7"
      },
      "outputs": [
        {
          "data": {
            "text/plain": [
              "[<matplotlib.lines.Line2D at 0x7fd6f82321c0>]"
            ]
          },
          "execution_count": 3,
          "metadata": {},
          "output_type": "execute_result"
        },
        {
          "data": {
            "image/png": "[encoded data removed]",
            "text/plain": [
              "<Figure size 432x288 with 1 Axes>"
            ]
          },
          "metadata": {
            "needs_background": "light"
          },
          "output_type": "display_data"
        }
      ],
      "source": [
        "plt.plot(x, y)\n",
        "plt.plot(x, y_prime)"
      ]
    },
    {
      "cell_type": "code",
      "execution_count": null,
      "id": "aa857184",
      "metadata": {
        "colab": {
          "base_uri": "https://localhost:8080/"
        },
        "id": "aa857184",
        "outputId": "f8dc1a21-ed8e-4749-b2a3-abec082f6037",
        "scrolled": true
      },
      "outputs": [
        {
          "name": "stdout",
          "output_type": "stream",
          "text": [
            "abs :  2.880510859951098\n",
            "est forward for h =  1 :  0.6915339834406824\n",
            "est central for h =  1 :  1.915530094439836\n",
            "est forward for h =  0.005 :  2.886689572840939\n",
            "est central for h =  0.005 :  2.8804838552378476\n",
            "est forward for h =  0.0025 :  2.883627264857802\n",
            "est central for h =  0.0025 :  2.880504108758619\n",
            "est forward for h =  0.0016666666666666668 :  2.8825944697075556\n",
            "est central for h =  0.0016666666666666668 :  2.880507859419834\n",
            "est forward for h =  0.00125 :  2.882075819094121\n",
            "est central for h =  0.00125 :  2.8805091721522125\n",
            "est forward for h =  0.001 :  2.881763907985724\n",
            "est central for h =  0.001 :  2.8805097797597323\n",
            "est forward for h =  0.0008333333333333334 :  2.881555666992841\n",
            "est central for h =  0.0008333333333333334 :  2.8805101098196007\n",
            "est forward for h =  0.0007142857142857143 :  2.881406776379636\n",
            "est central for h =  0.0007142857142857143 :  2.8805103088331174\n",
            "est forward for h =  0.000625 :  2.881295028010644\n",
            "est central for h =  0.000625 :  2.880510438002748\n",
            "est forward for h =  0.0005555555555555556 :  2.8812080649656457\n",
            "est central for h =  0.0005555555555555556 :  2.88051052655911\n",
            "est forward for h =  0.0005 :  2.881138464512767\n",
            "est central for h =  0.0005 :  2.880510589903351\n"
          ]
        }
      ],
      "source": [
        "lossf, lossc = calculate_numeric_diff(2)"
      ]
    },
    {
      "cell_type": "code",
      "execution_count": null,
      "id": "5ced672b",
      "metadata": {
        "id": "5ced672b"
      },
      "outputs": [],
      "source": [
        "def plot_loss(losses, label):\n",
        "    plt.figure(figsize = (10, 7))\n",
        "    plt.plot(h, losses, label = 'losses', c = 'r')\n",
        "    plt.title(label)\n",
        "    plt.xlabel('h value')\n",
        "    plt.ylabel('loss value')\n",
        "    "
      ]
    },
    {
      "cell_type": "code",
      "execution_count": null,
      "id": "917224da",
      "metadata": {
        "colab": {
          "base_uri": "https://localhost:8080/",
          "height": 899
        },
        "id": "917224da",
        "outputId": "f18dd68c-4f95-4c33-fe42-2e8762984320"
      },
      "outputs": [
        {
          "data": {
            "image/png": "[encoded data removed]",
            "text/plain": [
              "<Figure size 720x504 with 1 Axes>"
            ]
          },
          "metadata": {
            "needs_background": "light"
          },
          "output_type": "display_data"
        },
        {
          "data": {
            "image/png": "[encoded data removed]",
            "text/plain": [
              "<Figure size 720x504 with 1 Axes>"
            ]
          },
          "metadata": {
            "needs_background": "light"
          },
          "output_type": "display_data"
        }
      ],
      "source": [
        "# plotting the loss of forward method and central method\n",
        "plot_loss(lossf, 'forward method')\n",
        "plot_loss(lossc, 'central method')"
      ]
    },
    {
      "cell_type": "code",
      "execution_count": null,
      "id": "KdoIhP99rsix",
      "metadata": {
        "colab": {
          "base_uri": "https://localhost:8080/",
          "height": 283
        },
        "id": "KdoIhP99rsix",
        "outputId": "1de078e3-49d2-4773-f4f0-c42cf514e5f8"
      },
      "outputs": [
        {
          "data": {
            "text/plain": [
              "[<matplotlib.lines.Line2D at 0x7fd6cebaa640>]"
            ]
          },
          "execution_count": 55,
          "metadata": {},
          "output_type": "execute_result"
        },
        {
          "data": {
            "image/png": "[encoded data removed]",
            "text/plain": [
              "<Figure size 432x288 with 1 Axes>"
            ]
          },
          "metadata": {
            "needs_background": "light"
          },
          "output_type": "display_data"
        }
      ],
      "source": [
        "def calculate_ratio(losses):\n",
        "  ratio = []\n",
        "  for i in range(1 ,len(losses)):\n",
        "    ratio.append(losses[i] / losses[i - 1])\n",
        "  return ratio\n",
        "# calculate and plot the ratios\n",
        "central_ratio = calculate_ratio(lossc)\n",
        "forward_ratio = calculate_ratio(lossf)\n",
        "plt.plot(central_ratio, c = 'r')\n",
        "plt.plot(forward_ratio, c = 'g')"
      ]
    },
    {
      "cell_type": "markdown",
      "source": [
        "## part b)\n",
        "### second order derivative for above task"
      ],
      "metadata": {
        "id": "5s5kpDwgdpKR"
      },
      "id": "5s5kpDwgdpKR"
    },
    {
      "cell_type": "code",
      "execution_count": null,
      "id": "_gLLEMuIfnWG",
      "metadata": {
        "id": "_gLLEMuIfnWG"
      },
      "outputs": [],
      "source": [
        "#secod derrivative\n",
        "\n",
        "def estimate_diff_central_2(x, i):\n",
        "  return (function(x + i) - 2 * function(x) + function(x - i)) / i ** 2\n",
        "\n",
        "def estimate_diff_forward_2(x, i):\n",
        "  return (function(x + 2 * i) - 2 * function(x + i) + function(x)) / i ** 2\n",
        "\n",
        "def calculate_numeric_diff2(x):\n",
        "    lossf = []\n",
        "    lossc = []\n",
        "    y_abs = diff2(x)\n",
        "    print('abs : ', y_abs)\n",
        "    epoch = 0\n",
        "    for i in h:\n",
        "        y_est_f = estimate_diff_forward_2(x, i)\n",
        "        y_est_c = estimate_diff_central_2(x, i)\n",
        "        if epoch % 100 == 0:\n",
        "          print ('est forward for h = ', i, ': ', y_est_f)\n",
        "          print ('est central for h = ', i, ': ', y_est_c)\n",
        "        lossf.append(lossF(y_abs, y_est_f))\n",
        "        lossc.append(lossF(y_abs, y_est_c))\n",
        "        epoch += 1\n",
        "    return lossf, lossc"
      ]
    },
    {
      "cell_type": "code",
      "execution_count": null,
      "id": "Id-HFftUgPCH",
      "metadata": {
        "colab": {
          "base_uri": "https://localhost:8080/"
        },
        "id": "Id-HFftUgPCH",
        "outputId": "677892a4-3483-49ef-c4b0-9c752b443715"
      },
      "outputs": [
        {
          "name": "stdout",
          "output_type": "stream",
          "text": [
            "abs :  2.5147394837903327\n",
            "est forward for h =  1 :  -1.640225386682874\n",
            "est central for h =  1 :  1.1120694896994754\n",
            "est forward for h =  0.005 :  2.3847937376286765\n",
            "est central for h =  0.005 :  2.5146923327779014\n",
            "est forward for h =  0.0025 :  2.449846386509691\n",
            "est central for h =  0.0025 :  2.5147276959636145\n",
            "est forward for h =  0.0016666666666666668 :  2.4714954184212874\n",
            "est central for h =  0.0016666666666666668 :  2.51473424444093\n",
            "est forward for h =  0.00125 :  2.4823132218898536\n",
            "est central for h =  0.00125 :  2.5147365368027863\n",
            "est forward for h =  0.001 :  2.488801741140634\n",
            "est central for h =  0.001 :  2.514737597714145\n",
            "est forward for h =  0.0008333333333333334 :  2.493126515314969\n",
            "est central for h =  0.0008333333333333334 :  2.514738175216635\n",
            "est forward for h =  0.0007142857142857143 :  2.496215199339069\n",
            "est central for h =  0.0007142857142857143 :  2.5147385215085194\n",
            "est forward for h =  0.000625 :  2.498531467125531\n",
            "est central for h =  0.000625 :  2.514738746981493\n",
            "est forward for h =  0.0005555555555555556 :  2.500332864792121\n",
            "est central for h =  0.0005555555555555556 :  2.5147389015955923\n",
            "est forward for h =  0.0005 :  2.5017738918275967\n",
            "est central for h =  0.0005 :  2.5147390121382784\n"
          ]
        }
      ],
      "source": [
        "lossf2, lossc2 = calculate_numeric_diff2(2)"
      ]
    },
    {
      "cell_type": "code",
      "execution_count": null,
      "id": "OzTfJEY3n47R",
      "metadata": {
        "colab": {
          "base_uri": "https://localhost:8080/",
          "height": 899
        },
        "id": "OzTfJEY3n47R",
        "outputId": "6e47f58d-44a6-47fc-e303-6da7810681fe"
      },
      "outputs": [
        {
          "data": {
            "image/png": "[encoded data removed]",
            "text/plain": [
              "<Figure size 720x504 with 1 Axes>"
            ]
          },
          "metadata": {
            "needs_background": "light"
          },
          "output_type": "display_data"
        },
        {
          "data": {
            "image/png": "[encoded data removed]",
            "text/plain": [
              "<Figure size 720x504 with 1 Axes>"
            ]
          },
          "metadata": {
            "needs_background": "light"
          },
          "output_type": "display_data"
        }
      ],
      "source": [
        "plot_loss(lossf2, 'forward method')\n",
        "plot_loss(lossc2, 'central method')"
      ]
    },
    {
      "cell_type": "code",
      "execution_count": null,
      "id": "Awg6HtyDsz51",
      "metadata": {
        "colab": {
          "base_uri": "https://localhost:8080/",
          "height": 283
        },
        "id": "Awg6HtyDsz51",
        "outputId": "96b8ba10-f643-4b5d-e99c-8c22e5655a01"
      },
      "outputs": [
        {
          "data": {
            "text/plain": [
              "[<matplotlib.lines.Line2D at 0x7fd6cedb88b0>]"
            ]
          },
          "execution_count": 38,
          "metadata": {},
          "output_type": "execute_result"
        },
        {
          "data": {
            "image/png": "[encoded data removed]",
            "text/plain": [
              "<Figure size 432x288 with 1 Axes>"
            ]
          },
          "metadata": {
            "needs_background": "light"
          },
          "output_type": "display_data"
        }
      ],
      "source": [
        "f_ratio_2 = calculate_ratio(lossf2)\n",
        "c_ratio_2 = calculate_ratio(lossc2)\n",
        "plt.plot(f_ratio_2, c = 'r')\n",
        "plt.plot(c_ratio_2, c = 'g')"
      ]
    },
    {
      "cell_type": "markdown",
      "id": "294d5e1a",
      "metadata": {
        "id": "294d5e1a"
      },
      "source": [
        "## part c) \n",
        "### Differential equation"
      ]
    },
    {
      "cell_type": "markdown",
      "source": [
        "### problem:\n",
        "we have the temperature of head and tail of rod and differential equation of temperature distribution. It is desirable to calculate the temperature of points 0.25, 0.5 and 0.75.\n",
        "\n",
        "equation : $y''(x) - xy'(x) + y(x) = sqrt(1 + x)$"
      ],
      "metadata": {
        "id": "se-gIDYSv5E7"
      },
      "id": "se-gIDYSv5E7"
    },
    {
      "cell_type": "markdown",
      "source": [
        "### solution:\n",
        "write 3 equation in format : $(yi+1 - 2yi+yi-1/h^2) - xi(yi+1 - yi-1 / 2h) + yi = sqrt(1 + xi)$ for each point\n",
        "and then solve them with `sympy.solve()` method."
      ],
      "metadata": {
        "id": "yyPrPscLxfS5"
      },
      "id": "yyPrPscLxfS5"
    },
    {
      "cell_type": "code",
      "source": [
        "import sympy as sp"
      ],
      "metadata": {
        "id": "w-nPOFZveC3e"
      },
      "id": "w-nPOFZveC3e",
      "execution_count": null,
      "outputs": []
    },
    {
      "cell_type": "code",
      "source": [
        "y0, y1, y2, y3, y4 = sp.symbols('y:5')\n",
        "y0, y4 = 20, 25\n",
        "\n",
        "h = 0.25  #length of parts\n",
        "eq1 = sp.Eq(((y2 - 2 * y1 + y0) / h **2) - (0.25 *(y2 - y0) / 2 * h) + y1, sp.sqrt(1 + 0.25))\n",
        "eq2 = sp.Eq(((y3 - 2 * y2 + y1) / h **2) - (0.5 *(y3 - y1) / 2 * h) + y2, sp.sqrt(1 + 0.5))\n",
        "eq3 = sp.Eq(((y4 - 2 * y3 + y2) / h **2) - (0.75 *(y4 - y2) / 2 * h) + y3, sp.sqrt(1 + 0.75))\n",
        "sol = sp.solve((eq1, eq2, eq3), (y1, y2, y3))\n",
        "sol"
      ],
      "metadata": {
        "colab": {
          "base_uri": "https://localhost:8080/"
        },
        "id": "VulDE1q8kZfN",
        "outputId": "b8af6312-29d4-4c6f-98d9-52dc5f1c51ef"
      },
      "id": "VulDE1q8kZfN",
      "execution_count": null,
      "outputs": [
        {
          "output_type": "execute_result",
          "data": {
            "text/plain": [
              "{y1: 23.4267127652455, y2: 25.4698163420030, y3: 26.0076848741477}"
            ]
          },
          "metadata": {},
          "execution_count": 18
        }
      ]
    },
    {
      "cell_type": "markdown",
      "source": [
        "*italicized text*"
      ],
      "metadata": {
        "id": "izgsp9rQvh2f"
      },
      "id": "izgsp9rQvh2f"
    }
  ],
  "metadata": {
    "colab": {
      "provenance": []
    },
    "kernelspec": {
      "display_name": "Python 3.10.7 64-bit",
      "language": "python",
      "name": "python3"
    },
    "language_info": {
      "codemirror_mode": {
        "name": "ipython",
        "version": 3
      },
      "file_extension": ".py",
      "mimetype": "text/x-python",
      "name": "python",
      "nbconvert_exporter": "python",
      "pygments_lexer": "ipython3",
      "version": "3.10.7"
    },
    "vscode": {
      "interpreter": {
        "hash": "163607156c2cf33662bc140ade1550ab7156299ca5696cb124f221a30c485f8b"
      }
    }
  },
  "nbformat": 4,
  "nbformat_minor": 5
}