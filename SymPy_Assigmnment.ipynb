{
  "nbformat": 4,
  "nbformat_minor": 0,
  "metadata": {
    "colab": {
      "provenance": [],
      "authorship_tag": "ABX9TyO4LcpbSOMjqNqk3Q1kuG5v",
      "include_colab_link": true
    },
    "kernelspec": {
      "name": "python3",
      "display_name": "Python 3"
    },
    "language_info": {
      "name": "python"
    }
  },
  "cells": [
    {
      "cell_type": "markdown",
      "metadata": {
        "id": "view-in-github",
        "colab_type": "text"
      },
      "source": [
        "<a href=\"https://colab.research.google.com/github/sinaapolo969/numericalAnalysis/blob/main/SymPy_Assigmnment.ipynb\" target=\"_parent\"><img src=\"https://colab.research.google.com/assets/colab-badge.svg\" alt=\"Open In Colab\"/></a>"
      ]
    },
    {
      "cell_type": "markdown",
      "metadata": {
        "id": "acc020f5"
      },
      "source": [
        "# SymPy-Assignment\n",
        "__Author__ : Sina Tayebi + 400222057\n",
        "\n",
        "__Course__ : Undergraduate Numerical Analysis Course"
      ]
    },
    {
      "cell_type": "markdown",
      "source": [
        "### Question N.1: Symbolic Differentiation\n"
      ],
      "metadata": {
        "id": "HRZvBsouTgIz"
      }
    },
    {
      "cell_type": "code",
      "source": [
        "import sympy as sp\n",
        "from IPython.display import display, Latex"
      ],
      "metadata": {
        "id": "-pyWahh2G0oU"
      },
      "execution_count": 1,
      "outputs": []
    },
    {
      "cell_type": "code",
      "source": [
        "# a)\n",
        "x = sp.symbols('x')\n",
        "f = x**3 - 2*x**2 + 5*x - 7\n",
        "f_prime = sp.diff(f, x)\n",
        "# b)\n",
        "g = 1 / (x**2 + 1)\n",
        "g_prime = sp.diff(g, x)\n",
        "# c)\n",
        "h = (sp.E**(2*x)) * sp.cos(x)\n",
        "h_prime = sp.diff(h, x)\n",
        "\n",
        "display(Latex(sp.latex(f_prime)), Latex(sp.latex(g_prime)), Latex(sp.latex(h_prime)))"
      ],
      "metadata": {
        "colab": {
          "base_uri": "https://localhost:8080/",
          "height": 84
        },
        "id": "SQBIBRlUTvDi",
        "outputId": "6bff294a-5ae5-4c08-ba4b-878d38b8b23b"
      },
      "execution_count": 20,
      "outputs": [
        {
          "output_type": "display_data",
          "data": {
            "text/plain": [
              "<IPython.core.display.Latex object>"
            ],
            "text/latex": "3 x^{2} - 4 x + 5"
          },
          "metadata": {}
        },
        {
          "output_type": "display_data",
          "data": {
            "text/plain": [
              "<IPython.core.display.Latex object>"
            ],
            "text/latex": "- \\frac{2 x}{\\left(x^{2} + 1\\right)^{2}}"
          },
          "metadata": {}
        },
        {
          "output_type": "display_data",
          "data": {
            "text/plain": [
              "<IPython.core.display.Latex object>"
            ],
            "text/latex": "- e^{2 x} \\sin{\\left(x \\right)} + 2 e^{2 x} \\cos{\\left(x \\right)}"
          },
          "metadata": {}
        }
      ]
    },
    {
      "cell_type": "markdown",
      "source": [
        "### Question Number 2 : Symbolic Integration"
      ],
      "metadata": {
        "id": "E17NmcbjT2ax"
      }
    },
    {
      "cell_type": "code",
      "source": [
        "x = sp.symbols('x')\n",
        "\n",
        "# a)\n",
        "f = 2*x + 5\n",
        "f_int = sp.integrate(f, x)\n",
        "\n",
        "# b)\n",
        "g = 1 / (x**2 + 1)\n",
        "g_int = sp.integrate(g, x)\n",
        "\n",
        "# c)\n",
        "h = (x**3) / 3 - 2*x**2 + 5*x - 7\n",
        "h_int = sp.integrate(h, x)\n",
        "\n",
        "display(Latex(sp.latex(f_int)), Latex(sp.latex(g_int)), Latex(sp.latex(h_int)))"
      ],
      "metadata": {
        "colab": {
          "base_uri": "https://localhost:8080/",
          "height": 82
        },
        "id": "vycoi226VtC3",
        "outputId": "d7071c28-228f-45ad-ac26-05eb45ab7985"
      },
      "execution_count": 21,
      "outputs": [
        {
          "output_type": "display_data",
          "data": {
            "text/plain": [
              "<IPython.core.display.Latex object>"
            ],
            "text/latex": "x^{2} + 5 x"
          },
          "metadata": {}
        },
        {
          "output_type": "display_data",
          "data": {
            "text/plain": [
              "<IPython.core.display.Latex object>"
            ],
            "text/latex": "\\operatorname{atan}{\\left(x \\right)}"
          },
          "metadata": {}
        },
        {
          "output_type": "display_data",
          "data": {
            "text/plain": [
              "<IPython.core.display.Latex object>"
            ],
            "text/latex": "\\frac{x^{4}}{12} - \\frac{2 x^{3}}{3} + \\frac{5 x^{2}}{2} - 7 x"
          },
          "metadata": {}
        }
      ]
    },
    {
      "cell_type": "markdown",
      "source": [
        "### Question Number 3 : Solving Equations"
      ],
      "metadata": {
        "id": "3t-f67WdVuPZ"
      }
    },
    {
      "cell_type": "code",
      "source": [
        "x = sp.symbols('x')\n",
        "\n",
        "#a) \n",
        "eq1 = sp.Eq(x**2 - 3*x + 2, 0)\n",
        "sol1 = sp.solve(eq1, x)\n",
        "\n",
        "# b)\n",
        "eq2 = sp.Eq(sp.E**x + x - 1, 0)\n",
        "sol2 = sp.solve(eq2, x)\n",
        "\n",
        "# c)\n",
        "eq3 = sp.Eq(sp.cos(x), 1/2)\n",
        "sol3 = sp.solve(eq3, x)\n",
        "\n",
        "print(f\"a) {sol1} \\nb) {sol2}\\nc) {sol3}\")"
      ],
      "metadata": {
        "colab": {
          "base_uri": "https://localhost:8080/"
        },
        "id": "aVG-CAY7Xq7L",
        "outputId": "7786a757-8709-4e33-d3e2-5eedd2a499e5"
      },
      "execution_count": 25,
      "outputs": [
        {
          "output_type": "stream",
          "name": "stdout",
          "text": [
            "a) [1, 2] \n",
            "b) [0]\n",
            "c) [1.04719755119660, 5.23598775598299]\n"
          ]
        }
      ]
    },
    {
      "cell_type": "markdown",
      "source": [
        "### Question Number 4 : Advanced Sympy"
      ],
      "metadata": {
        "id": "3hbwYuxuYK-i"
      }
    },
    {
      "cell_type": "code",
      "source": [
        "x = sp.symbols('x')\n",
        "f = sp.Piecewise((0, sp.Interval(-sp.pi, 0, False, True).contains(x)), \n",
        "                 (1, (sp.Interval(0, sp.pi, False, True).contains(x))))\n",
        "sp.pprint(f)"
      ],
      "metadata": {
        "colab": {
          "base_uri": "https://localhost:8080/"
        },
        "id": "utuhcnBuBjlO",
        "outputId": "e88fefa1-8658-4763-b581-eed73d761970"
      },
      "execution_count": 9,
      "outputs": [
        {
          "output_type": "stream",
          "name": "stdout",
          "text": [
            "⎧0  for x ≥ -π ∧ x < 0\n",
            "⎨                     \n",
            "⎩1  for x ≥ 0 ∧ x < π \n"
          ]
        }
      ]
    },
    {
      "cell_type": "code",
      "source": [
        "fourier_series_expr = sp.fourier_series(f, (x, -sp.pi, sp.pi))\n",
        "fourier_series_expr.truncate(10)"
      ],
      "metadata": {
        "colab": {
          "base_uri": "https://localhost:8080/",
          "height": 53
        },
        "id": "lA913sV1CFut",
        "outputId": "948b14e5-2afe-4be8-8a09-66d588dda294"
      },
      "execution_count": 10,
      "outputs": [
        {
          "output_type": "execute_result",
          "data": {
            "text/plain": [
              "2*sin(x)/pi + 2*sin(3*x)/(3*pi) + 2*sin(5*x)/(5*pi) + 2*sin(7*x)/(7*pi) + 2*sin(9*x)/(9*pi) + 2*sin(11*x)/(11*pi) + 2*sin(13*x)/(13*pi) + 2*sin(15*x)/(15*pi) + 2*sin(17*x)/(17*pi) + 1/2"
            ],
            "text/latex": "$\\displaystyle \\frac{2 \\sin{\\left(x \\right)}}{\\pi} + \\frac{2 \\sin{\\left(3 x \\right)}}{3 \\pi} + \\frac{2 \\sin{\\left(5 x \\right)}}{5 \\pi} + \\frac{2 \\sin{\\left(7 x \\right)}}{7 \\pi} + \\frac{2 \\sin{\\left(9 x \\right)}}{9 \\pi} + \\frac{2 \\sin{\\left(11 x \\right)}}{11 \\pi} + \\frac{2 \\sin{\\left(13 x \\right)}}{13 \\pi} + \\frac{2 \\sin{\\left(15 x \\right)}}{15 \\pi} + \\frac{2 \\sin{\\left(17 x \\right)}}{17 \\pi} + \\frac{1}{2}$"
          },
          "metadata": {},
          "execution_count": 10
        }
      ]
    },
    {
      "cell_type": "markdown",
      "source": [
        "### 5. Question Number 5 : Application of Sympy (Bonus Question)\n",
        "### solution:\n",
        " we know this from Pysics, the first order derivative of the space-time equation, gives us the velocity-time equation, and the second order derivative of it, gives us the acceleration-time equation. $x = 3sint - 4sin2t$"
      ],
      "metadata": {
        "id": "iX0cq9rKHTPd"
      }
    },
    {
      "cell_type": "code",
      "source": [
        "t = sp.symbols('t')\n",
        "x = 3*sp.sin(t) - 4*sp.sin(2*t)\n",
        "velocity = sp.diff(x, t) # first order derivative\n",
        "acceleration = sp.diff(x, t, 2) # second order derivative \n",
        "display(Latex(sp.latex(velocity)), Latex(sp.latex(acceleration)))"
      ],
      "metadata": {
        "colab": {
          "base_uri": "https://localhost:8080/",
          "height": 59
        },
        "id": "ugPnjeR_HvNW",
        "outputId": "ec1312fd-bbc2-484c-b1ef-07c9f43e48f9"
      },
      "execution_count": 13,
      "outputs": [
        {
          "output_type": "display_data",
          "data": {
            "text/plain": [
              "<IPython.core.display.Latex object>"
            ],
            "text/latex": "3 \\cos{\\left(t \\right)} - 8 \\cos{\\left(2 t \\right)}"
          },
          "metadata": {}
        },
        {
          "output_type": "display_data",
          "data": {
            "text/plain": [
              "<IPython.core.display.Latex object>"
            ],
            "text/latex": "- 3 \\sin{\\left(t \\right)} + 16 \\sin{\\left(2 t \\right)}"
          },
          "metadata": {}
        }
      ]
    }
  ]
}